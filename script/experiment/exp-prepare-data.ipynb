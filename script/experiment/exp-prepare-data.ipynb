{
 "cells": [
  {
   "cell_type": "code",
   "execution_count": 5,
   "metadata": {},
   "outputs": [
    {
     "name": "stdout",
     "output_type": "stream",
     "text": [
      "c:\\Users\\user\\Documents\\root\\personal\\github-personal\\face-differentiation-binary\\data\\Carles\n"
     ]
    }
   ],
   "source": [
    "# rename file name in each subfolder of data as {subfolder_name}-{count}.jpg\n",
    "# count start from 1\n",
    "\n",
    "import os\n",
    "import shutil\n",
    "from pyprojroot.here import here\n",
    "\n",
    "# path to data folder\n",
    "data_path = here(\"data\")\n",
    "\n",
    "for folder in os.listdir(data_path):\n",
    "\n",
    "    folder_path = os.path.join(data_path, folder)\n",
    "    print(folder_path)\n",
    "    count = 1\n",
    "    for file in os.listdir(folder_path):\n",
    "        file_path = os.path.join(folder_path, file)\n",
    "        new_file_name = folder + '-' + str(count) + '.jpg'\n",
    "        new_file_path = os.path.join(folder_path, new_file_name)\n",
    "        os.rename(file_path, new_file_path)\n",
    "        count += 1\n"
   ]
  },
  {
   "cell_type": "code",
   "execution_count": 32,
   "metadata": {},
   "outputs": [
    {
     "name": "stderr",
     "output_type": "stream",
     "text": [
      "C:\\Users\\user\\AppData\\Local\\Temp\\ipykernel_5956\\1717807730.py:12: VisibleDeprecationWarning: Creating an ndarray from ragged nested sequences (which is a list-or-tuple of lists-or-tuples-or ndarrays with different lengths or shapes) is deprecated. If you meant to do this, you must specify 'dtype=object' when creating the ndarray.\n",
      "  return np.array(images), np.array(labels)\n"
     ]
    }
   ],
   "source": [
    "# load all images and labelon data folder as numpy array\n",
    "def load_images(path):\n",
    "    images = []\n",
    "    labels = []\n",
    "    for folder in os.listdir(path):\n",
    "        folder_path = os.path.join(path, folder)\n",
    "        for file in os.listdir(folder_path):\n",
    "            file_path = os.path.join(folder_path, file)\n",
    "            image = cv2.imread(file_path)\n",
    "            images.append(image)\n",
    "            labels.append(folder)\n",
    "    return np.array(images), np.array(labels)\n",
    "\n",
    "concat_images, concat_labels = load_images(data_path)"
   ]
  },
  {
   "cell_type": "code",
   "execution_count": 44,
   "metadata": {},
   "outputs": [
    {
     "data": {
      "text/plain": [
       "(1475, 1109, 3)"
      ]
     },
     "execution_count": 44,
     "metadata": {},
     "output_type": "execute_result"
    }
   ],
   "source": [
    "concat_images[].shape"
   ]
  },
  {
   "cell_type": "code",
   "execution_count": null,
   "metadata": {},
   "outputs": [],
   "source": []
  }
 ],
 "metadata": {
  "kernelspec": {
   "display_name": "ML-workflow-bangkit",
   "language": "python",
   "name": "python3"
  },
  "language_info": {
   "codemirror_mode": {
    "name": "ipython",
    "version": 3
   },
   "file_extension": ".py",
   "mimetype": "text/x-python",
   "name": "python",
   "nbconvert_exporter": "python",
   "pygments_lexer": "ipython3",
   "version": "3.11.3"
  },
  "orig_nbformat": 4
 },
 "nbformat": 4,
 "nbformat_minor": 2
}
